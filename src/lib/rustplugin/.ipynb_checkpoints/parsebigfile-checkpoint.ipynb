{
 "cells": [
  {
   "cell_type": "code",
   "execution_count": null,
   "metadata": {},
   "outputs": [],
   "source": [
    "import json\n",
    "import http.client\n",
    "import requests\n",
    "import asyncio\n",
    "import time"
   ]
  },
  {
   "cell_type": "code",
   "execution_count": null,
   "metadata": {},
   "outputs": [],
   "source": [
    "import csv"
   ]
  },
  {
   "cell_type": "code",
   "execution_count": null,
   "metadata": {},
   "outputs": [],
   "source": [
    "file_name = \"./test.txt\""
   ]
  },
  {
   "cell_type": "code",
   "execution_count": null,
   "metadata": {},
   "outputs": [],
   "source": [
    "file_name = \"./test.txt\"\n",
    "counter = 0\n",
    "with open(file_name) as file:\n",
    "    data = f.readlines()\n",
    "    for line in data:\n",
    "        counter += 1\n",
    "        print(line)\n",
    "        if counter>30 break else return "
   ]
  },
  {
   "cell_type": "markdown",
   "metadata": {},
   "source": [
    "```\n",
    "with open(file_name, 'rb') as infile, open('outputfile.txt', 'wb') as outfile:\n",
    "\n",
    "    writer = csv.writer(outfile, delimiter='=')\n",
    "\n",
    "    for record in csv.reader(infile, delimiter='\\n', lineterminator='\\n\\n'):\n",
    "        values = [item.split(':')[-1].strip() for item in record[:-1]] + [record[-1]]\n",
    "        writer.writerow(values)\n",
    "        \n",
    "        \n",
    ">>> with open('dog_breeds.txt', 'r') as reader:\n",
    ">>>     # Read and print the entire file line by line\n",
    ">>>     line = reader.readline()\n",
    ">>>     while line != '':  # The EOF char is an empty string\n",
    ">>>         print(line, end='')\n",
    ">>>         line = reader.readline()\n",
    "        \n",
    "```"
   ]
  },
  {
   "cell_type": "code",
   "execution_count": null,
   "metadata": {},
   "outputs": [],
   "source": [
    "with open(file_name, 'r') as reader:\n",
    "    counter = 0\n",
    "    # Read and print the entire file line by line\n",
    "    for line in reader:\n",
    "        counter += 1\n",
    "        if counter>30 break else return \n",
    "        print(line, end='==============================')"
   ]
  }
 ],
 "metadata": {
  "kernelspec": {
   "display_name": "Python 3",
   "language": "python",
   "name": "python3"
  },
  "language_info": {
   "codemirror_mode": {
    "name": "ipython",
    "version": 3
   },
   "file_extension": ".py",
   "mimetype": "text/x-python",
   "name": "python",
   "nbconvert_exporter": "python",
   "pygments_lexer": "ipython3",
   "version": "3.6.7"
  }
 },
 "nbformat": 4,
 "nbformat_minor": 2
}
