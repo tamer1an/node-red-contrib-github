{
 "cells": [
  {
   "cell_type": "code",
   "execution_count": null,
   "metadata": {},
   "outputs": [],
   "source": [
    "import json\n",
    "import http.client\n",
    "import requests\n",
    "import asyncio\n",
    "import time"
   ]
  },
  {
   "cell_type": "code",
   "execution_count": null,
   "metadata": {},
   "outputs": [],
   "source": [
    "import csv"
   ]
  },
  {
   "cell_type": "code",
   "execution_count": 1,
   "metadata": {},
   "outputs": [],
   "source": [
    "file_name = \"./test.txt\""
   ]
  },
  {
   "cell_type": "code",
   "execution_count": null,
   "metadata": {},
   "outputs": [],
   "source": [
    "file_name = \"./test.txt\"\n",
    "counter = 0\n",
    "with open(file_name) as file:\n",
    "    data = f.readlines()\n",
    "    for line in data:\n",
    "        counter += 1\n",
    "        print(line)\n",
    "        if counter>30 break else return "
   ]
  },
  {
   "cell_type": "markdown",
   "metadata": {},
   "source": [
    "```\n",
    "with open(file_name, 'rb') as infile, open('outputfile.txt', 'wb') as outfile:\n",
    "\n",
    "    writer = csv.writer(outfile, delimiter='=')\n",
    "\n",
    "    for record in csv.reader(infile, delimiter='\\n', lineterminator='\\n\\n'):\n",
    "        values = [item.split(':')[-1].strip() for item in record[:-1]] + [record[-1]]\n",
    "        writer.writerow(values)\n",
    "        \n",
    "        \n",
    ">>> with open('dog_breeds.txt', 'r') as reader:\n",
    ">>>     # Read and print the entire file line by line\n",
    ">>>     line = reader.readline()\n",
    ">>>     while line != '':  # The EOF char is an empty string\n",
    ">>>         print(line, end='')\n",
    ">>>         line = reader.readline()\n",
    "        \n",
    "```"
   ]
  },
  {
   "cell_type": "code",
   "execution_count": 4,
   "metadata": {},
   "outputs": [
    {
     "name": "stdout",
     "output_type": "stream",
     "text": [
      "\n",
      "==============================\n",
      "==============================\n",
      "==============================\n",
      "==============================\n",
      "==============================\n",
      "==============================<!DOCTYPE html>\n",
      "==============================<html lang=\"en\">\n",
      "==============================  <head>\n",
      "==============================    <meta charset=\"utf-8\">\n",
      "==============================  <link rel=\"dns-prefetch\" href=\"https://github.githubassets.com\">\n",
      "==============================  <link rel=\"dns-prefetch\" href=\"https://avatars0.githubusercontent.com\">\n",
      "==============================  <link rel=\"dns-prefetch\" href=\"https://avatars1.githubusercontent.com\">\n",
      "==============================  <link rel=\"dns-prefetch\" href=\"https://avatars2.githubusercontent.com\">\n",
      "==============================  <link rel=\"dns-prefetch\" href=\"https://avatars3.githubusercontent.com\">\n",
      "==============================  <link rel=\"dns-prefetch\" href=\"https://github-cloud.s3.amazonaws.com\">\n",
      "==============================  <link rel=\"dns-prefetch\" href=\"https://user-images.githubusercontent.com/\">\n",
      "==============================\n",
      "==============================\n",
      "==============================\n",
      "==============================  <link crossorigin=\"anonymous\" media=\"all\" integrity=\"sha512-67V2J9Se2CifJlftk9/cExHGvxd7N9b9EdGnQEpszu99Ogeecilu9jIDxoCkx3zNLfB9ArraXW0J03qyVmN0Uw==\" rel=\"stylesheet\" href=\"https://github.githubassets.com/assets/frameworks-e7318add1f7e055d040edb0f75aaa0ba.css\" />\n",
      "==============================  <link crossorigin=\"anonymous\" media=\"all\" integrity=\"sha512-MRlTIqIyb8caK5+o8llXVntXovciHyAM4qE3kWU2S7SIjAPDxYp4mE0jQp4kP5UYegy+lG9y1I6VlsdzEjb5Qw==\" rel=\"stylesheet\" href=\"https://github.githubassets.com/assets/site-294181adec18ed639e160b96b45d17ac.css\" />\n",
      "==============================    <link crossorigin=\"anonymous\" media=\"all\" integrity=\"sha512-bgBR1xQkj/CIp26ItOrlen3F/3JrJK1d6Qnc/eRWK1UiU8RuePzp635N4Yqkw166lxXr/iDpSxkBibhPepwWVQ==\" rel=\"stylesheet\" href=\"https://github.githubassets.com/assets/github-393058aa01427825741da79f3d6cc330.css\" />\n",
      "==============================    \n",
      "==============================    \n",
      "==============================    \n",
      "==============================    \n",
      "==============================\n",
      "==============================  <meta name=\"viewport\" content=\"width=device-width\">\n",
      "==============================  \n",
      "=============================="
     ]
    }
   ],
   "source": [
    "with open(file_name, 'r') as reader:\n",
    "    counter = 0\n",
    "    # Read and print the entire file line by line\n",
    "    for line in reader:\n",
    "        counter += 1\n",
    "        if counter > 30:\n",
    "            break\n",
    "        print(line, end='==============================')"
   ]
  }
 ],
 "metadata": {
  "kernelspec": {
   "display_name": "Python 3",
   "language": "python",
   "name": "python3"
  },
  "language_info": {
   "codemirror_mode": {
    "name": "ipython",
    "version": 3
   },
   "file_extension": ".py",
   "mimetype": "text/x-python",
   "name": "python",
   "nbconvert_exporter": "python",
   "pygments_lexer": "ipython3",
   "version": "3.6.7"
  }
 },
 "nbformat": 4,
 "nbformat_minor": 2
}
